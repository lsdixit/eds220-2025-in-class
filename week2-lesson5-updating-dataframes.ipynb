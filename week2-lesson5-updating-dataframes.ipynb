{
 "cells": [
  {
   "cell_type": "markdown",
   "id": "4bffb9bd-42f6-4d89-9b2c-bd96a024ee7d",
   "metadata": {},
   "source": [
    "# Updating data frames\n",
    "\n",
    "## Updating values in a dataframe\n",
    "\n",
    "Start by importing packages and data"
   ]
  },
  {
   "cell_type": "code",
   "execution_count": 1,
   "id": "d589626b-7b40-484c-8ef5-2d3311b09e27",
   "metadata": {
    "tags": []
   },
   "outputs": [],
   "source": [
    "import pandas as pd\n",
    "import numpy as np\n",
    "import random # used for randomly sampling integers\n",
    "\n",
    "# set seed\n",
    "random.seed(42)\n",
    "\n",
    "# load data\n",
    "URL = 'https://raw.githubusercontent.com/allisonhorst/palmerpenguins/main/inst/extdata/penguins.csv'\n",
    "penguins = pd.read_csv(URL)"
   ]
  },
  {
   "cell_type": "code",
   "execution_count": 2,
   "id": "e12f4802-9161-4e6e-9e25-a708805650f9",
   "metadata": {
    "tags": []
   },
   "outputs": [
    {
     "name": "stdout",
     "output_type": "stream",
     "text": [
      "True\n"
     ]
    }
   ],
   "source": [
    "# Add column body_mass in kg\n",
    "penguins['body_mass_kg'] = penguins['body_mass_g']/1000\n",
    "\n",
    "# confirm new column is in the dataframe\n",
    "print('body_mass_kg' in penguins.columns)"
   ]
  },
  {
   "cell_type": "code",
   "execution_count": 3,
   "id": "1714399c-6948-43f4-9ed2-5a2cda564454",
   "metadata": {
    "tags": []
   },
   "outputs": [],
   "source": [
    "# create random 3-digit codes\n",
    "codes = random.sample(range(100,1000), len(penguins)) # sampling without replacement"
   ]
  },
  {
   "cell_type": "code",
   "execution_count": 4,
   "id": "a6ff23dc-3de4-4833-949d-841e2bc725ba",
   "metadata": {
    "tags": []
   },
   "outputs": [
    {
     "data": {
      "text/plain": [
       "344"
      ]
     },
     "execution_count": 4,
     "metadata": {},
     "output_type": "execute_result"
    }
   ],
   "source": [
    "len(penguins)"
   ]
  },
  {
   "cell_type": "code",
   "execution_count": 5,
   "id": "b0243115-8dda-4a30-906c-c49d56f9d399",
   "metadata": {
    "tags": []
   },
   "outputs": [],
   "source": [
    "# insert codes at the front of data frame\n",
    "penguins.insert(loc=0, # index\n",
    "               column='id_code',\n",
    "               value = codes)"
   ]
  },
  {
   "cell_type": "code",
   "execution_count": 6,
   "id": "ef474416-1e4d-4ab9-b828-7cb7fa3330fb",
   "metadata": {
    "tags": []
   },
   "outputs": [
    {
     "data": {
      "text/html": [
       "<div>\n",
       "<style scoped>\n",
       "    .dataframe tbody tr th:only-of-type {\n",
       "        vertical-align: middle;\n",
       "    }\n",
       "\n",
       "    .dataframe tbody tr th {\n",
       "        vertical-align: top;\n",
       "    }\n",
       "\n",
       "    .dataframe thead th {\n",
       "        text-align: right;\n",
       "    }\n",
       "</style>\n",
       "<table border=\"1\" class=\"dataframe\">\n",
       "  <thead>\n",
       "    <tr style=\"text-align: right;\">\n",
       "      <th></th>\n",
       "      <th>id_code</th>\n",
       "      <th>species</th>\n",
       "      <th>island</th>\n",
       "      <th>bill_length_mm</th>\n",
       "      <th>bill_depth_mm</th>\n",
       "      <th>flipper_length_mm</th>\n",
       "      <th>body_mass_g</th>\n",
       "      <th>sex</th>\n",
       "      <th>year</th>\n",
       "      <th>body_mass_kg</th>\n",
       "    </tr>\n",
       "  </thead>\n",
       "  <tbody>\n",
       "    <tr>\n",
       "      <th>0</th>\n",
       "      <td>754</td>\n",
       "      <td>Adelie</td>\n",
       "      <td>Torgersen</td>\n",
       "      <td>39.1</td>\n",
       "      <td>18.7</td>\n",
       "      <td>181.0</td>\n",
       "      <td>3750.0</td>\n",
       "      <td>male</td>\n",
       "      <td>2007</td>\n",
       "      <td>3.75</td>\n",
       "    </tr>\n",
       "    <tr>\n",
       "      <th>1</th>\n",
       "      <td>214</td>\n",
       "      <td>Adelie</td>\n",
       "      <td>Torgersen</td>\n",
       "      <td>39.5</td>\n",
       "      <td>17.4</td>\n",
       "      <td>186.0</td>\n",
       "      <td>3800.0</td>\n",
       "      <td>female</td>\n",
       "      <td>2007</td>\n",
       "      <td>3.80</td>\n",
       "    </tr>\n",
       "    <tr>\n",
       "      <th>2</th>\n",
       "      <td>125</td>\n",
       "      <td>Adelie</td>\n",
       "      <td>Torgersen</td>\n",
       "      <td>40.3</td>\n",
       "      <td>18.0</td>\n",
       "      <td>195.0</td>\n",
       "      <td>3250.0</td>\n",
       "      <td>female</td>\n",
       "      <td>2007</td>\n",
       "      <td>3.25</td>\n",
       "    </tr>\n",
       "    <tr>\n",
       "      <th>3</th>\n",
       "      <td>859</td>\n",
       "      <td>Adelie</td>\n",
       "      <td>Torgersen</td>\n",
       "      <td>NaN</td>\n",
       "      <td>NaN</td>\n",
       "      <td>NaN</td>\n",
       "      <td>NaN</td>\n",
       "      <td>NaN</td>\n",
       "      <td>2007</td>\n",
       "      <td>NaN</td>\n",
       "    </tr>\n",
       "    <tr>\n",
       "      <th>4</th>\n",
       "      <td>381</td>\n",
       "      <td>Adelie</td>\n",
       "      <td>Torgersen</td>\n",
       "      <td>36.7</td>\n",
       "      <td>19.3</td>\n",
       "      <td>193.0</td>\n",
       "      <td>3450.0</td>\n",
       "      <td>female</td>\n",
       "      <td>2007</td>\n",
       "      <td>3.45</td>\n",
       "    </tr>\n",
       "  </tbody>\n",
       "</table>\n",
       "</div>"
      ],
      "text/plain": [
       "   id_code species     island  bill_length_mm  bill_depth_mm  \\\n",
       "0      754  Adelie  Torgersen            39.1           18.7   \n",
       "1      214  Adelie  Torgersen            39.5           17.4   \n",
       "2      125  Adelie  Torgersen            40.3           18.0   \n",
       "3      859  Adelie  Torgersen             NaN            NaN   \n",
       "4      381  Adelie  Torgersen            36.7           19.3   \n",
       "\n",
       "   flipper_length_mm  body_mass_g     sex  year  body_mass_kg  \n",
       "0              181.0       3750.0    male  2007          3.75  \n",
       "1              186.0       3800.0  female  2007          3.80  \n",
       "2              195.0       3250.0  female  2007          3.25  \n",
       "3                NaN          NaN     NaN  2007           NaN  \n",
       "4              193.0       3450.0  female  2007          3.45  "
      ]
     },
     "execution_count": 6,
     "metadata": {},
     "output_type": "execute_result"
    }
   ],
   "source": [
    "penguins.head()"
   ]
  },
  {
   "cell_type": "markdown",
   "id": "3c7f4f7e-c2ec-482f-8502-947e864a2275",
   "metadata": {},
   "source": [
    "# a single value\n",
    "access a single value in `pandas.dataframe` using locators\n",
    "\n",
    "- `at[]` select by labels\n",
    "- `iat[]` to select index position\n",
    "\n",
    "syntax\n",
    "```\n",
    "df.at[single_index_value, 'column_name']\n",
    "```\n",
    "\n",
    "*`at[]` is the equivalent of `loc[]` when accessing a single value\n",
    "\n",
    "### example"
   ]
  },
  {
   "cell_type": "code",
   "execution_count": 7,
   "id": "4f832e66-2c75-49db-8fc7-4c5f1ed856d3",
   "metadata": {
    "tags": []
   },
   "outputs": [
    {
     "data": {
      "text/html": [
       "<div>\n",
       "<style scoped>\n",
       "    .dataframe tbody tr th:only-of-type {\n",
       "        vertical-align: middle;\n",
       "    }\n",
       "\n",
       "    .dataframe tbody tr th {\n",
       "        vertical-align: top;\n",
       "    }\n",
       "\n",
       "    .dataframe thead th {\n",
       "        text-align: right;\n",
       "    }\n",
       "</style>\n",
       "<table border=\"1\" class=\"dataframe\">\n",
       "  <thead>\n",
       "    <tr style=\"text-align: right;\">\n",
       "      <th></th>\n",
       "      <th>species</th>\n",
       "      <th>island</th>\n",
       "      <th>bill_length_mm</th>\n",
       "      <th>bill_depth_mm</th>\n",
       "      <th>flipper_length_mm</th>\n",
       "      <th>body_mass_g</th>\n",
       "      <th>sex</th>\n",
       "      <th>year</th>\n",
       "      <th>body_mass_kg</th>\n",
       "    </tr>\n",
       "    <tr>\n",
       "      <th>id_code</th>\n",
       "      <th></th>\n",
       "      <th></th>\n",
       "      <th></th>\n",
       "      <th></th>\n",
       "      <th></th>\n",
       "      <th></th>\n",
       "      <th></th>\n",
       "      <th></th>\n",
       "      <th></th>\n",
       "    </tr>\n",
       "  </thead>\n",
       "  <tbody>\n",
       "    <tr>\n",
       "      <th>754</th>\n",
       "      <td>Adelie</td>\n",
       "      <td>Torgersen</td>\n",
       "      <td>39.1</td>\n",
       "      <td>18.7</td>\n",
       "      <td>181.0</td>\n",
       "      <td>3750.0</td>\n",
       "      <td>male</td>\n",
       "      <td>2007</td>\n",
       "      <td>3.750</td>\n",
       "    </tr>\n",
       "    <tr>\n",
       "      <th>214</th>\n",
       "      <td>Adelie</td>\n",
       "      <td>Torgersen</td>\n",
       "      <td>39.5</td>\n",
       "      <td>17.4</td>\n",
       "      <td>186.0</td>\n",
       "      <td>3800.0</td>\n",
       "      <td>female</td>\n",
       "      <td>2007</td>\n",
       "      <td>3.800</td>\n",
       "    </tr>\n",
       "    <tr>\n",
       "      <th>125</th>\n",
       "      <td>Adelie</td>\n",
       "      <td>Torgersen</td>\n",
       "      <td>40.3</td>\n",
       "      <td>18.0</td>\n",
       "      <td>195.0</td>\n",
       "      <td>3250.0</td>\n",
       "      <td>female</td>\n",
       "      <td>2007</td>\n",
       "      <td>3.250</td>\n",
       "    </tr>\n",
       "    <tr>\n",
       "      <th>859</th>\n",
       "      <td>Adelie</td>\n",
       "      <td>Torgersen</td>\n",
       "      <td>NaN</td>\n",
       "      <td>NaN</td>\n",
       "      <td>NaN</td>\n",
       "      <td>NaN</td>\n",
       "      <td>NaN</td>\n",
       "      <td>2007</td>\n",
       "      <td>NaN</td>\n",
       "    </tr>\n",
       "    <tr>\n",
       "      <th>381</th>\n",
       "      <td>Adelie</td>\n",
       "      <td>Torgersen</td>\n",
       "      <td>36.7</td>\n",
       "      <td>19.3</td>\n",
       "      <td>193.0</td>\n",
       "      <td>3450.0</td>\n",
       "      <td>female</td>\n",
       "      <td>2007</td>\n",
       "      <td>3.450</td>\n",
       "    </tr>\n",
       "    <tr>\n",
       "      <th>...</th>\n",
       "      <td>...</td>\n",
       "      <td>...</td>\n",
       "      <td>...</td>\n",
       "      <td>...</td>\n",
       "      <td>...</td>\n",
       "      <td>...</td>\n",
       "      <td>...</td>\n",
       "      <td>...</td>\n",
       "      <td>...</td>\n",
       "    </tr>\n",
       "    <tr>\n",
       "      <th>140</th>\n",
       "      <td>Chinstrap</td>\n",
       "      <td>Dream</td>\n",
       "      <td>55.8</td>\n",
       "      <td>19.8</td>\n",
       "      <td>207.0</td>\n",
       "      <td>4000.0</td>\n",
       "      <td>male</td>\n",
       "      <td>2009</td>\n",
       "      <td>4.000</td>\n",
       "    </tr>\n",
       "    <tr>\n",
       "      <th>183</th>\n",
       "      <td>Chinstrap</td>\n",
       "      <td>Dream</td>\n",
       "      <td>43.5</td>\n",
       "      <td>18.1</td>\n",
       "      <td>202.0</td>\n",
       "      <td>3400.0</td>\n",
       "      <td>female</td>\n",
       "      <td>2009</td>\n",
       "      <td>3.400</td>\n",
       "    </tr>\n",
       "    <tr>\n",
       "      <th>969</th>\n",
       "      <td>Chinstrap</td>\n",
       "      <td>Dream</td>\n",
       "      <td>49.6</td>\n",
       "      <td>18.2</td>\n",
       "      <td>193.0</td>\n",
       "      <td>3775.0</td>\n",
       "      <td>male</td>\n",
       "      <td>2009</td>\n",
       "      <td>3.775</td>\n",
       "    </tr>\n",
       "    <tr>\n",
       "      <th>635</th>\n",
       "      <td>Chinstrap</td>\n",
       "      <td>Dream</td>\n",
       "      <td>50.8</td>\n",
       "      <td>19.0</td>\n",
       "      <td>210.0</td>\n",
       "      <td>4100.0</td>\n",
       "      <td>male</td>\n",
       "      <td>2009</td>\n",
       "      <td>4.100</td>\n",
       "    </tr>\n",
       "    <tr>\n",
       "      <th>883</th>\n",
       "      <td>Chinstrap</td>\n",
       "      <td>Dream</td>\n",
       "      <td>50.2</td>\n",
       "      <td>18.7</td>\n",
       "      <td>198.0</td>\n",
       "      <td>3775.0</td>\n",
       "      <td>female</td>\n",
       "      <td>2009</td>\n",
       "      <td>3.775</td>\n",
       "    </tr>\n",
       "  </tbody>\n",
       "</table>\n",
       "<p>344 rows × 9 columns</p>\n",
       "</div>"
      ],
      "text/plain": [
       "           species     island  bill_length_mm  bill_depth_mm  \\\n",
       "id_code                                                        \n",
       "754         Adelie  Torgersen            39.1           18.7   \n",
       "214         Adelie  Torgersen            39.5           17.4   \n",
       "125         Adelie  Torgersen            40.3           18.0   \n",
       "859         Adelie  Torgersen             NaN            NaN   \n",
       "381         Adelie  Torgersen            36.7           19.3   \n",
       "...            ...        ...             ...            ...   \n",
       "140      Chinstrap      Dream            55.8           19.8   \n",
       "183      Chinstrap      Dream            43.5           18.1   \n",
       "969      Chinstrap      Dream            49.6           18.2   \n",
       "635      Chinstrap      Dream            50.8           19.0   \n",
       "883      Chinstrap      Dream            50.2           18.7   \n",
       "\n",
       "         flipper_length_mm  body_mass_g     sex  year  body_mass_kg  \n",
       "id_code                                                              \n",
       "754                  181.0       3750.0    male  2007         3.750  \n",
       "214                  186.0       3800.0  female  2007         3.800  \n",
       "125                  195.0       3250.0  female  2007         3.250  \n",
       "859                    NaN          NaN     NaN  2007           NaN  \n",
       "381                  193.0       3450.0  female  2007         3.450  \n",
       "...                    ...          ...     ...   ...           ...  \n",
       "140                  207.0       4000.0    male  2009         4.000  \n",
       "183                  202.0       3400.0  female  2009         3.400  \n",
       "969                  193.0       3775.0    male  2009         3.775  \n",
       "635                  210.0       4100.0    male  2009         4.100  \n",
       "883                  198.0       3775.0  female  2009         3.775  \n",
       "\n",
       "[344 rows x 9 columns]"
      ]
     },
     "execution_count": 7,
     "metadata": {},
     "output_type": "execute_result"
    }
   ],
   "source": [
    "penguins = penguins.set_index('id_code')\n",
    "penguins"
   ]
  },
  {
   "cell_type": "markdown",
   "id": "9b4782f9-ead1-4ed5-b919-420dec1d6c13",
   "metadata": {},
   "source": [
    "What was the bill length of the penguin ID=309 ?"
   ]
  },
  {
   "cell_type": "code",
   "execution_count": 8,
   "id": "172e9aba-e8ab-49eb-b239-8c7c64ef9035",
   "metadata": {
    "tags": []
   },
   "outputs": [
    {
     "data": {
      "text/plain": [
       "40.6"
      ]
     },
     "execution_count": 8,
     "metadata": {},
     "output_type": "execute_result"
    }
   ],
   "source": [
    "# check bill length of bill length ID = 833\n",
    "penguins.at[833, 'bill_length_mm']"
   ]
  },
  {
   "cell_type": "code",
   "execution_count": 9,
   "id": "7e49608c-00ef-490b-a7ac-b2976e0a952c",
   "metadata": {
    "tags": []
   },
   "outputs": [
    {
     "data": {
      "text/plain": [
       "species              Adelie\n",
       "island               Biscoe\n",
       "bill_length_mm         38.3\n",
       "bill_depth_mm          18.6\n",
       "flipper_length_mm     183.0\n",
       "body_mass_g          3550.0\n",
       "sex                    male\n",
       "year                   2007\n",
       "body_mass_kg           3.55\n",
       "Name: 833, dtype: object"
      ]
     },
     "execution_count": 9,
     "metadata": {},
     "output_type": "execute_result"
    }
   ],
   "source": [
    "# correct bill length of penguin ID = 833\n",
    "penguins.at[833, 'bill_length_mm'] = 38.3\n",
    "\n",
    "# confirm value has updates\n",
    "penguins.loc[833]"
   ]
  },
  {
   "cell_type": "markdown",
   "id": "93e5339b-5b15-4e93-9b49-fb150b06d08a",
   "metadata": {},
   "source": [
    "if we want to access or udpate single value by index position, we use iat[] locator:\n",
    "\n",
    "`df.iat[index_integer_location, column_integer_location]`\n",
    "\n",
    "# dynamically get the location of a single column\n",
    "\n",
    "`df.columns.get_loc('column_name')`\n",
    "\n",
    "# check in\n",
    "\n",
    "1. Obtain the location of the bill_length_mm column.\n",
    "\n",
    "2. Use iat[] to access the same bill length value for the penguin with ID 833 and revert it back to an NA. Confirm your update using iloc[].\n",
    "\n"
   ]
  },
  {
   "cell_type": "code",
   "execution_count": 10,
   "id": "13b7c1ee-dc2f-45d6-8128-dd26ac8e19d3",
   "metadata": {
    "tags": []
   },
   "outputs": [
    {
     "data": {
      "text/plain": [
       "species                 Adelie\n",
       "island               Torgersen\n",
       "bill_length_mm             NaN\n",
       "bill_depth_mm              NaN\n",
       "flipper_length_mm          NaN\n",
       "body_mass_g                NaN\n",
       "sex                        NaN\n",
       "year                      2007\n",
       "body_mass_kg               NaN\n",
       "Name: 859, dtype: object"
      ]
     },
     "execution_count": 10,
     "metadata": {},
     "output_type": "execute_result"
    }
   ],
   "source": [
    "# set to nan using iat[]\n",
    "bill_length_index = penguins.columns.get_loc('bill_length_mm')\n",
    "\n",
    "penguins.iat[3, bill_length_index] = np.nan\n",
    "penguins.iloc[3]"
   ]
  },
  {
   "cell_type": "markdown",
   "id": "59ace554-ed58-4d06-95f5-955cfb2e823f",
   "metadata": {
    "tags": []
   },
   "source": [
    "# multiple values in a column\n",
    "\n",
    "### Using a condition\n",
    "\n",
    "Examples:\n",
    "We want to classify the palmer penguins such that:\n",
    "\n",
    "- penguisn with body mass < 3 kg are small\n",
    "- penguins with 3kg <= body mass < 5kg are medium\n",
    "- penguins with body mass > 5kg are large"
   ]
  },
  {
   "cell_type": "code",
   "execution_count": 11,
   "id": "79634929-1245-4f5b-a351-6adfb94094cd",
   "metadata": {
    "tags": []
   },
   "outputs": [
    {
     "data": {
      "text/html": [
       "<div>\n",
       "<style scoped>\n",
       "    .dataframe tbody tr th:only-of-type {\n",
       "        vertical-align: middle;\n",
       "    }\n",
       "\n",
       "    .dataframe tbody tr th {\n",
       "        vertical-align: top;\n",
       "    }\n",
       "\n",
       "    .dataframe thead th {\n",
       "        text-align: right;\n",
       "    }\n",
       "</style>\n",
       "<table border=\"1\" class=\"dataframe\">\n",
       "  <thead>\n",
       "    <tr style=\"text-align: right;\">\n",
       "      <th></th>\n",
       "      <th>species</th>\n",
       "      <th>island</th>\n",
       "      <th>bill_length_mm</th>\n",
       "      <th>bill_depth_mm</th>\n",
       "      <th>flipper_length_mm</th>\n",
       "      <th>body_mass_g</th>\n",
       "      <th>sex</th>\n",
       "      <th>year</th>\n",
       "      <th>body_mass_kg</th>\n",
       "      <th>size</th>\n",
       "    </tr>\n",
       "    <tr>\n",
       "      <th>id_code</th>\n",
       "      <th></th>\n",
       "      <th></th>\n",
       "      <th></th>\n",
       "      <th></th>\n",
       "      <th></th>\n",
       "      <th></th>\n",
       "      <th></th>\n",
       "      <th></th>\n",
       "      <th></th>\n",
       "      <th></th>\n",
       "    </tr>\n",
       "  </thead>\n",
       "  <tbody>\n",
       "    <tr>\n",
       "      <th>754</th>\n",
       "      <td>Adelie</td>\n",
       "      <td>Torgersen</td>\n",
       "      <td>39.1</td>\n",
       "      <td>18.7</td>\n",
       "      <td>181.0</td>\n",
       "      <td>3750.0</td>\n",
       "      <td>male</td>\n",
       "      <td>2007</td>\n",
       "      <td>3.75</td>\n",
       "      <td>medium</td>\n",
       "    </tr>\n",
       "    <tr>\n",
       "      <th>214</th>\n",
       "      <td>Adelie</td>\n",
       "      <td>Torgersen</td>\n",
       "      <td>39.5</td>\n",
       "      <td>17.4</td>\n",
       "      <td>186.0</td>\n",
       "      <td>3800.0</td>\n",
       "      <td>female</td>\n",
       "      <td>2007</td>\n",
       "      <td>3.80</td>\n",
       "      <td>medium</td>\n",
       "    </tr>\n",
       "    <tr>\n",
       "      <th>125</th>\n",
       "      <td>Adelie</td>\n",
       "      <td>Torgersen</td>\n",
       "      <td>40.3</td>\n",
       "      <td>18.0</td>\n",
       "      <td>195.0</td>\n",
       "      <td>3250.0</td>\n",
       "      <td>female</td>\n",
       "      <td>2007</td>\n",
       "      <td>3.25</td>\n",
       "      <td>medium</td>\n",
       "    </tr>\n",
       "    <tr>\n",
       "      <th>859</th>\n",
       "      <td>Adelie</td>\n",
       "      <td>Torgersen</td>\n",
       "      <td>NaN</td>\n",
       "      <td>NaN</td>\n",
       "      <td>NaN</td>\n",
       "      <td>NaN</td>\n",
       "      <td>NaN</td>\n",
       "      <td>2007</td>\n",
       "      <td>NaN</td>\n",
       "      <td>nan</td>\n",
       "    </tr>\n",
       "    <tr>\n",
       "      <th>381</th>\n",
       "      <td>Adelie</td>\n",
       "      <td>Torgersen</td>\n",
       "      <td>36.7</td>\n",
       "      <td>19.3</td>\n",
       "      <td>193.0</td>\n",
       "      <td>3450.0</td>\n",
       "      <td>female</td>\n",
       "      <td>2007</td>\n",
       "      <td>3.45</td>\n",
       "      <td>medium</td>\n",
       "    </tr>\n",
       "  </tbody>\n",
       "</table>\n",
       "</div>"
      ],
      "text/plain": [
       "        species     island  bill_length_mm  bill_depth_mm  flipper_length_mm  \\\n",
       "id_code                                                                        \n",
       "754      Adelie  Torgersen            39.1           18.7              181.0   \n",
       "214      Adelie  Torgersen            39.5           17.4              186.0   \n",
       "125      Adelie  Torgersen            40.3           18.0              195.0   \n",
       "859      Adelie  Torgersen             NaN            NaN                NaN   \n",
       "381      Adelie  Torgersen            36.7           19.3              193.0   \n",
       "\n",
       "         body_mass_g     sex  year  body_mass_kg    size  \n",
       "id_code                                                   \n",
       "754           3750.0    male  2007          3.75  medium  \n",
       "214           3800.0  female  2007          3.80  medium  \n",
       "125           3250.0  female  2007          3.25  medium  \n",
       "859              NaN     NaN  2007           NaN     nan  \n",
       "381           3450.0  female  2007          3.45  medium  "
      ]
     },
     "execution_count": 11,
     "metadata": {},
     "output_type": "execute_result"
    }
   ],
   "source": [
    "# create a list with conditions\n",
    "conditions = [penguins.body_mass_kg < 3,\n",
    "             (3 <= penguins.body_mass_kg) & (penguins.body_mass_kg < 5),\n",
    "             5 <= penguins.body_mass_kg]\n",
    "\n",
    "# create list with choices\n",
    "choices = ['small',\n",
    "           'medium',\n",
    "           'large']\n",
    "\n",
    "# add the selections using np.select\n",
    "penguins['size'] = np.select(conditions, choices, \n",
    "                             default = np.nan) # value for anything outside conditions\n",
    "\n",
    "# display updated dataframe\n",
    "penguins.head()"
   ]
  },
  {
   "cell_type": "markdown",
   "id": "2a5860c1-4eaf-460f-976c-8c0b55742e44",
   "metadata": {},
   "source": [
    "## update values by selecting them\n",
    "\n",
    "we can do this with `loc` or `iloc` and assigning new alues\n",
    "\n",
    "`df.loc[row selection, column names] = new values`\n",
    "\n",
    "using `loc[]` in assignment modifies the data frame directly without the need for reassignment\n",
    "\n",
    "### Example\n",
    "update the 'male' values in the sex column to 'M'"
   ]
  },
  {
   "cell_type": "code",
   "execution_count": 13,
   "id": "3adc857b-b4f8-44d6-b2d2-8f149d0c590e",
   "metadata": {
    "tags": []
   },
   "outputs": [],
   "source": [
    "# select rows sex = male and simplify values in 'sex' column\n",
    "penguins.loc[penguins.sex == 'male', 'sex'] = 'M'"
   ]
  },
  {
   "cell_type": "code",
   "execution_count": 14,
   "id": "4cda169f-acc2-4abf-9c2e-26314583cbc8",
   "metadata": {
    "tags": []
   },
   "outputs": [
    {
     "name": "stdout",
     "output_type": "stream",
     "text": [
      "['M' 'female' nan]\n"
     ]
    }
   ],
   "source": [
    "# check changes in sex column\n",
    "print(penguins.sex.unique())"
   ]
  },
  {
   "cell_type": "markdown",
   "id": "32bf32a5-bdf8-40f0-b558-7f2b438a81bd",
   "metadata": {},
   "source": [
    "### Best practices\n",
    "\n",
    "we want to update the 'female' values in 'sex' column to 'F'"
   ]
  },
  {
   "cell_type": "code",
   "execution_count": 17,
   "id": "6dbabcee-9be3-4b44-a205-15c365e7068a",
   "metadata": {
    "tags": []
   },
   "outputs": [
    {
     "name": "stderr",
     "output_type": "stream",
     "text": [
      "/tmp/ipykernel_1052814/1407227471.py:2: SettingWithCopyWarning: \n",
      "A value is trying to be set on a copy of a slice from a DataFrame.\n",
      "Try using .loc[row_indexer,col_indexer] = value instead\n",
      "\n",
      "See the caveats in the documentation: https://pandas.pydata.org/pandas-docs/stable/user_guide/indexing.html#returning-a-view-versus-a-copy\n",
      "  penguins[penguins.sex == 'female']['sex'] = \"F\" # returns 'setting with copy' warning\n"
     ]
    }
   ],
   "source": [
    "# select rows where 'sex' is female and attempt to update values\n",
    "penguins[penguins.sex == 'female']['sex'] = \"F\" # returns 'setting with copy' warning"
   ]
  },
  {
   "cell_type": "markdown",
   "id": "2e3398e5-77c7-4e9c-a054-acbeb5d8d2ba",
   "metadata": {},
   "source": [
    "**avoid chaned indexing** `[][]` and use `.loc[]` instead. this warning happens generally when there is chained indexing:\n",
    "\n",
    "`df[row_selection][column_selection] = new_value`"
   ]
  },
  {
   "cell_type": "markdown",
   "id": "df51b811-4d8c-4a7e-a3c6-5a5827598715",
   "metadata": {},
   "source": [
    "## Check in \n",
    "1. update the female values without the warning and check programatically the values were updated"
   ]
  },
  {
   "cell_type": "code",
   "execution_count": 23,
   "id": "5b371cbc-701e-4547-8e5e-fd282f58ed00",
   "metadata": {
    "tags": []
   },
   "outputs": [],
   "source": [
    "# select rows where 'sex' is female and update values\n",
    "penguins.loc[penguins.sex == 'female', 'sex'] = 'F'"
   ]
  },
  {
   "cell_type": "code",
   "execution_count": 24,
   "id": "a8b14741-e7e8-4064-bcde-3df8cc16e927",
   "metadata": {
    "tags": []
   },
   "outputs": [
    {
     "data": {
      "text/plain": [
       "array(['M', 'F', nan], dtype=object)"
      ]
     },
     "execution_count": 24,
     "metadata": {},
     "output_type": "execute_result"
    }
   ],
   "source": [
    "penguins.sex.unique()"
   ]
  },
  {
   "cell_type": "markdown",
   "id": "b3e55014-aed1-4767-a315-42b10529530d",
   "metadata": {},
   "source": [
    "this warning comes up because some `pandas` operations return a view, and others return a copy of your data.\n",
    "\n",
    "- **Views**: actual subsets of the original data, when we update them, we are modifying the original data frame.\n",
    "- **copies**: unique objects, independent of our original data frames. when we update a copy we are not modifying the original data."
   ]
  },
  {
   "cell_type": "code",
   "execution_count": 25,
   "id": "4c4d6fe0-d891-4888-b73a-6b15d244e25c",
   "metadata": {
    "tags": []
   },
   "outputs": [
    {
     "name": "stderr",
     "output_type": "stream",
     "text": [
      "/tmp/ipykernel_1052814/624302000.py:7: SettingWithCopyWarning: \n",
      "A value is trying to be set on a copy of a slice from a DataFrame.\n",
      "Try using .loc[row_indexer,col_indexer] = value instead\n",
      "\n",
      "See the caveats in the documentation: https://pandas.pydata.org/pandas-docs/stable/user_guide/indexing.html#returning-a-view-versus-a-copy\n",
      "  biscoe['sample_column'] = 100\n"
     ]
    }
   ],
   "source": [
    "# select penguins from Biscoe island\n",
    "biscoe = penguins[penguins.island == 'Biscoe']\n",
    "\n",
    "# ... other analyses ...\n",
    "\n",
    "# add a column\n",
    "biscoe['sample_column'] = 100\n",
    "# will still return the warning"
   ]
  },
  {
   "cell_type": "markdown",
   "id": "9141d596-b9de-46b7-a401-e81ca5fcbf9b",
   "metadata": {
    "tags": []
   },
   "source": [
    "we can also explicitely ask for a copy of the dataset when subsetting using the `copy()` method."
   ]
  },
  {
   "cell_type": "code",
   "execution_count": 26,
   "id": "0af7f82a-5ef7-45ef-8e4b-69e63fbec63b",
   "metadata": {
    "tags": []
   },
   "outputs": [],
   "source": [
    "# select penguins from Biscoe island\n",
    "biscoe = penguins[penguins.island == 'Biscoe'].copy()\n",
    "\n",
    "# ... other analyses ...\n",
    "\n",
    "# add a column\n",
    "biscoe['sample_column'] = 100"
   ]
  },
  {
   "cell_type": "code",
   "execution_count": null,
   "id": "7736ff8e-8576-43d3-8d9d-ce11d0bbc209",
   "metadata": {},
   "outputs": [],
   "source": []
  }
 ],
 "metadata": {
  "kernelspec": {
   "display_name": "EDS220",
   "language": "python",
   "name": "eds220-env"
  },
  "language_info": {
   "codemirror_mode": {
    "name": "ipython",
    "version": 3
   },
   "file_extension": ".py",
   "mimetype": "text/x-python",
   "name": "python",
   "nbconvert_exporter": "python",
   "pygments_lexer": "ipython3",
   "version": "3.11.4"
  }
 },
 "nbformat": 4,
 "nbformat_minor": 5
}
