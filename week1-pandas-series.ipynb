{
 "cells": [
  {
   "cell_type": "markdown",
   "id": "fd54cff6-4a8c-4347-a0be-e4bfeb18854d",
   "metadata": {},
   "source": [
    "# Pandas Series Data Frames\n",
    "\n",
    "By the end of this lesson, students will be able to:\n",
    "\n",
    "- Explain the relation between pandas.Series and pandas.DataFrame\n",
    "- Construct simple pandas.Series and pandas.DataFrame from scratch using different initalization methods\n",
    "- Perform simple operations on pandas.Series\n",
    "- Navigate the pandas documentation to look for attributes and methods of pandas.Series and pandas.DataFrame\n"
   ]
  },
  {
   "cell_type": "code",
   "execution_count": 1,
   "id": "787b6666-2b06-4423-95ec-3ce2b4e1f7af",
   "metadata": {
    "tags": []
   },
   "outputs": [],
   "source": [
    "# Import packages\n",
    "import pandas as pd\n",
    "import numpy as np"
   ]
  },
  {
   "cell_type": "markdown",
   "id": "1ffa6570-ad31-478c-aa1b-fef39f519605",
   "metadata": {},
   "source": [
    "The first core object of pandas is the series. A series is a one-dimensional array of indexed data.\n",
    "\n",
    "A pandas.Series having an index is the main difference between a pandas.Series and a NumPy array. Let’s see the difference:"
   ]
  },
  {
   "cell_type": "code",
   "execution_count": 42,
   "id": "11369d64-e870-4c20-ab22-7b55e0e9506c",
   "metadata": {
    "tags": []
   },
   "outputs": [
    {
     "name": "stdout",
     "output_type": "stream",
     "text": [
      "<class 'numpy.ndarray'>\n",
      "[ 0.98957902  1.84550021 -0.76688108 -0.31963727] \n",
      "\n"
     ]
    }
   ],
   "source": [
    "# A numpy array\n",
    "arr = np.random.randn(4) # Random values from std normal distribution\n",
    "\n",
    "# Print class of arr\n",
    "print(type(arr))\n",
    "\n",
    "# Print the values in the numpy array\n",
    "print(arr, \"\\n\") "
   ]
  },
  {
   "cell_type": "code",
   "execution_count": 43,
   "id": "c835b18f-31f7-44a8-a49a-63eba949447b",
   "metadata": {
    "tags": []
   },
   "outputs": [
    {
     "name": "stdout",
     "output_type": "stream",
     "text": [
      "<class 'pandas.core.series.Series'>\n",
      "0    0.989579\n",
      "1    1.845500\n",
      "2   -0.766881\n",
      "3   -0.319637\n",
      "dtype: float64\n"
     ]
    }
   ],
   "source": [
    "# A pandas series made from the previous array\n",
    "s = pd.Series(arr)\n",
    "print(type(s))\n",
    "print(s) \n",
    "\n",
    "# Notice the index is printed with the pandas series"
   ]
  },
  {
   "cell_type": "markdown",
   "id": "6ef40937-62c7-4a35-9e10-516bf19ec3df",
   "metadata": {
    "tags": []
   },
   "source": [
    "# The basic method to create a pandas Series\n",
    "`s = pd.Series(data, index = index)`\n",
    "\n",
    "The data parameter can be:\n",
    "- a list or NumPy array,\n",
    "- a Python dictionary, or\n",
    "- a single number, boolean (True/False), or string.\n",
    "\n",
    "The index parameter is optional. It must be a list of indices of the same length as data parameter.\n"
   ]
  },
  {
   "cell_type": "markdown",
   "id": "a55411c8-5612-4803-88e3-385ad3836484",
   "metadata": {},
   "source": [
    "## Example : Creating a `pandas.Series` from a NumPy array"
   ]
  },
  {
   "cell_type": "code",
   "execution_count": 12,
   "id": "a9419fd7-a07a-4b91-abab-f9adc276bd3b",
   "metadata": {
    "tags": []
   },
   "outputs": [
    {
     "data": {
      "text/plain": [
       "2023    0\n",
       "2024    1\n",
       "2025    2\n",
       "dtype: int64"
      ]
     },
     "execution_count": 12,
     "metadata": {},
     "output_type": "execute_result"
    }
   ],
   "source": [
    "# A series from a numpy array \n",
    "pd.Series(np.arange(3), index=[2023, 2024, 2025])"
   ]
  },
  {
   "cell_type": "markdown",
   "id": "03f38e03-6c1c-4b4f-a177-f48fb669c5cc",
   "metadata": {
    "tags": []
   },
   "source": [
    "## Example: Creating a `pandas.Series` from a list"
   ]
  },
  {
   "cell_type": "code",
   "execution_count": 14,
   "id": "0b7ae3cc-3955-49d4-8943-93b426701b63",
   "metadata": {
    "tags": []
   },
   "outputs": [
    {
     "data": {
      "text/plain": [
       "0    EDS 220\n",
       "1    EDS 222\n",
       "2    EDS 223\n",
       "3    EDS 242\n",
       "dtype: object"
      ]
     },
     "execution_count": 14,
     "metadata": {},
     "output_type": "execute_result"
    }
   ],
   "source": [
    "# A series from a list of strings with default index\n",
    "pd.Series(['EDS 220', 'EDS 222', 'EDS 223', 'EDS 242'])"
   ]
  },
  {
   "cell_type": "markdown",
   "id": "962d1463-908a-403d-bf27-a6ab3a3a8bb3",
   "metadata": {},
   "source": [
    "## Example: Creating a `pandas.Series` from a dictionary"
   ]
  },
  {
   "cell_type": "code",
   "execution_count": 16,
   "id": "b4a7992e-f58b-49fd-abd9-bc764fdeb16a",
   "metadata": {
    "tags": []
   },
   "outputs": [
    {
     "data": {
      "text/plain": [
       "key_0    2\n",
       "key_1    3\n",
       "key_2    5\n",
       "dtype: object"
      ]
     },
     "execution_count": 16,
     "metadata": {},
     "output_type": "execute_result"
    }
   ],
   "source": [
    "# Construct dictionary\n",
    "d = {'key_0':2,\n",
    "    'key_1':'3',\n",
    "    'key_2':5}\n",
    "# Note: this will create a series with a data type value of 'object'\n",
    "# This is a mix of strings and numbers\n",
    "\n",
    "# Initialize series using a dictionary\n",
    "pd.Series(d)"
   ]
  },
  {
   "cell_type": "markdown",
   "id": "cfb6b792-e032-4d52-9e58-07293547aadd",
   "metadata": {},
   "source": [
    "## Example: Creating a `pandas.Series` from a single value\n",
    "\n",
    "If you only provide a number, boolean, or string for the series, you have to provide an index."
   ]
  },
  {
   "cell_type": "code",
   "execution_count": 17,
   "id": "3490e2fa-40de-4fe9-a330-cc1161ecc104",
   "metadata": {
    "tags": []
   },
   "outputs": [
    {
     "data": {
      "text/plain": [
       "A    3.0\n",
       "B    3.0\n",
       "C    3.0\n",
       "dtype: float64"
      ]
     },
     "execution_count": 17,
     "metadata": {},
     "output_type": "execute_result"
    }
   ],
   "source": [
    "pd.Series(3.0, index = ['A', 'B', 'C'])"
   ]
  },
  {
   "cell_type": "markdown",
   "id": "fd4e143a-51a0-45e4-9a69-b05ca7d0bdff",
   "metadata": {},
   "source": [
    "### Simple operations"
   ]
  },
  {
   "cell_type": "code",
   "execution_count": 41,
   "id": "a31e7fb4-296e-4c1e-8de8-11d3ead1017e",
   "metadata": {
    "tags": []
   },
   "outputs": [
    {
     "name": "stdout",
     "output_type": "stream",
     "text": [
      "Andrea      9.8\n",
      "Beth        7.3\n",
      "Carolina    6.5\n",
      "dtype: float64 \n",
      "\n",
      "Andrea      3.637971e+42\n",
      "Beth        5.052394e+31\n",
      "Carolina    1.694889e+28\n",
      "dtype: float64 \n",
      "\n",
      "Andrea      98\n",
      "Beth        73\n",
      "Carolina    65\n",
      "dtype: int64\n"
     ]
    }
   ],
   "source": [
    "# Define a series\n",
    "s = pd.Series([98, 73, 65], index = ['Andrea', 'Beth', 'Carolina'])\n",
    "\n",
    "# Divide each element in series by 10\n",
    "print(s / 10, '\\n')\n",
    "\n",
    "# Take the expontential of each element in series\n",
    "print(np.exp(s), '\\n')\n",
    "\n",
    "# Original series is unchanged\n",
    "print(s)"
   ]
  },
  {
   "cell_type": "code",
   "execution_count": 21,
   "id": "c0cf7883-00ce-431b-91e9-7657e098fe06",
   "metadata": {
    "tags": []
   },
   "outputs": [
    {
     "data": {
      "text/plain": [
       "Andrea       True\n",
       "Beth         True\n",
       "Carolina    False\n",
       "dtype: bool"
      ]
     },
     "execution_count": 21,
     "metadata": {},
     "output_type": "execute_result"
    }
   ],
   "source": [
    "# We can also apply boolean logic to the series\n",
    "s > 70"
   ]
  },
  {
   "cell_type": "markdown",
   "id": "d88834f3-afd9-4cf9-aed3-c64720819c71",
   "metadata": {
    "tags": []
   },
   "source": [
    "## Identifying missing values"
   ]
  },
  {
   "cell_type": "code",
   "execution_count": 23,
   "id": "640833ef-54ac-4ae5-b74e-8d918c3c00a9",
   "metadata": {
    "tags": []
   },
   "outputs": [
    {
     "data": {
      "text/plain": [
       "0    1.0\n",
       "1    2.0\n",
       "2    NaN\n",
       "3    4.0\n",
       "4    NaN\n",
       "dtype: float64"
      ]
     },
     "execution_count": 23,
     "metadata": {},
     "output_type": "execute_result"
    }
   ],
   "source": [
    "# Series with NAs in it\n",
    "# np.nan is a float value with stands for \"not a number\"\n",
    "s = pd.Series([1, 2, np.nan, 4, np.nan])\n",
    "s\n",
    "\n",
    "# data type is still a float64"
   ]
  },
  {
   "cell_type": "code",
   "execution_count": 24,
   "id": "6346a5c2-059c-4aa7-ba54-4ed74bfa46d3",
   "metadata": {
    "tags": []
   },
   "outputs": [
    {
     "data": {
      "text/plain": [
       "True"
      ]
     },
     "execution_count": 24,
     "metadata": {},
     "output_type": "execute_result"
    }
   ],
   "source": [
    "# Check if series has NAs\n",
    "s.hasnans"
   ]
  },
  {
   "cell_type": "code",
   "execution_count": 25,
   "id": "be132387-556f-45e8-82da-6ca5274f2371",
   "metadata": {
    "tags": []
   },
   "outputs": [
    {
     "data": {
      "text/plain": [
       "0    False\n",
       "1    False\n",
       "2     True\n",
       "3    False\n",
       "4     True\n",
       "dtype: bool"
      ]
     },
     "execution_count": 25,
     "metadata": {},
     "output_type": "execute_result"
    }
   ],
   "source": [
    "# Which elements in the series are NAs\n",
    "s.isna()"
   ]
  },
  {
   "cell_type": "markdown",
   "id": "be15fb60-8612-49eb-86ef-cbd8bc90f803",
   "metadata": {},
   "source": [
    "## Check in:\n",
    "-999 is often used to represent missing values. Create a pandas series with four integer values, two of which are -999. The index is A through D.\n",
    "\n",
    "Look for the method `mask()`. Use this method to update the series so that -999 values are replaces with NAs."
   ]
  },
  {
   "cell_type": "code",
   "execution_count": 34,
   "id": "9bd21d72-d0f8-413d-8ce3-440561616869",
   "metadata": {
    "tags": []
   },
   "outputs": [
    {
     "name": "stdout",
     "output_type": "stream",
     "text": [
      "A     10\n",
      "B   -999\n",
      "C     20\n",
      "D   -999\n",
      "dtype: int64\n"
     ]
    },
    {
     "data": {
      "text/plain": [
       "A    10.0\n",
       "B     NaN\n",
       "C    20.0\n",
       "D     NaN\n",
       "dtype: float64"
      ]
     },
     "execution_count": 34,
     "metadata": {},
     "output_type": "execute_result"
    }
   ],
   "source": [
    "# Create a pandas series with -999 values\n",
    "s = pd.Series([10, -999, 20, -999], index=['A', 'B', 'C', 'D'])\n",
    "print(s)\n",
    "\n",
    "# Use mask() to update the series \n",
    "s.mask(s < 0)"
   ]
  },
  {
   "cell_type": "markdown",
   "id": "4c232894-0c07-44fb-a937-c203f40d56fd",
   "metadata": {},
   "source": [
    "# Creating a `pandas.DataFrame`\n",
    "\n",
    "Each column of a `pandas.DataFrame` is a `pandas.Series`"
   ]
  },
  {
   "cell_type": "code",
   "execution_count": 36,
   "id": "bbbb2f81-021f-4ce9-a21c-c4216e5c446e",
   "metadata": {
    "tags": []
   },
   "outputs": [
    {
     "data": {
      "text/html": [
       "<div>\n",
       "<style scoped>\n",
       "    .dataframe tbody tr th:only-of-type {\n",
       "        vertical-align: middle;\n",
       "    }\n",
       "\n",
       "    .dataframe tbody tr th {\n",
       "        vertical-align: top;\n",
       "    }\n",
       "\n",
       "    .dataframe thead th {\n",
       "        text-align: right;\n",
       "    }\n",
       "</style>\n",
       "<table border=\"1\" class=\"dataframe\">\n",
       "  <thead>\n",
       "    <tr style=\"text-align: right;\">\n",
       "      <th></th>\n",
       "      <th>col_name_1</th>\n",
       "      <th>col_name_2</th>\n",
       "    </tr>\n",
       "  </thead>\n",
       "  <tbody>\n",
       "    <tr>\n",
       "      <th>0</th>\n",
       "      <td>0</td>\n",
       "      <td>3.1</td>\n",
       "    </tr>\n",
       "    <tr>\n",
       "      <th>1</th>\n",
       "      <td>1</td>\n",
       "      <td>3.2</td>\n",
       "    </tr>\n",
       "    <tr>\n",
       "      <th>2</th>\n",
       "      <td>2</td>\n",
       "      <td>3.3</td>\n",
       "    </tr>\n",
       "  </tbody>\n",
       "</table>\n",
       "</div>"
      ],
      "text/plain": [
       "   col_name_1  col_name_2\n",
       "0           0         3.1\n",
       "1           1         3.2\n",
       "2           2         3.3"
      ]
     },
     "execution_count": 36,
     "metadata": {},
     "output_type": "execute_result"
    }
   ],
   "source": [
    "# Initialize dictionary with columns' data\n",
    "d = {'col_name_1': pd.Series(np.arange(3)),\n",
    "    'col_name_2': pd.Series([3.1, 3.2, 3.3]),\n",
    "    }\n",
    "\n",
    "# Create a data frame\n",
    "df = pd.DataFrame(d)\n",
    "df"
   ]
  },
  {
   "cell_type": "code",
   "execution_count": 37,
   "id": "2d0ab556-36c4-4f17-bb01-ad676750a668",
   "metadata": {
    "tags": []
   },
   "outputs": [
    {
     "data": {
      "text/html": [
       "<div>\n",
       "<style scoped>\n",
       "    .dataframe tbody tr th:only-of-type {\n",
       "        vertical-align: middle;\n",
       "    }\n",
       "\n",
       "    .dataframe tbody tr th {\n",
       "        vertical-align: top;\n",
       "    }\n",
       "\n",
       "    .dataframe thead th {\n",
       "        text-align: right;\n",
       "    }\n",
       "</style>\n",
       "<table border=\"1\" class=\"dataframe\">\n",
       "  <thead>\n",
       "    <tr style=\"text-align: right;\">\n",
       "      <th></th>\n",
       "      <th>col_name_1</th>\n",
       "      <th>col_name_2</th>\n",
       "    </tr>\n",
       "  </thead>\n",
       "  <tbody>\n",
       "    <tr>\n",
       "      <th>a</th>\n",
       "      <td>0</td>\n",
       "      <td>3.1</td>\n",
       "    </tr>\n",
       "    <tr>\n",
       "      <th>b</th>\n",
       "      <td>1</td>\n",
       "      <td>3.2</td>\n",
       "    </tr>\n",
       "    <tr>\n",
       "      <th>c</th>\n",
       "      <td>2</td>\n",
       "      <td>3.3</td>\n",
       "    </tr>\n",
       "  </tbody>\n",
       "</table>\n",
       "</div>"
      ],
      "text/plain": [
       "   col_name_1  col_name_2\n",
       "a           0         3.1\n",
       "b           1         3.2\n",
       "c           2         3.3"
      ]
     },
     "execution_count": 37,
     "metadata": {},
     "output_type": "execute_result"
    }
   ],
   "source": [
    "# Change index\n",
    "df.index = ['a', 'b', 'c']\n",
    "df"
   ]
  },
  {
   "cell_type": "markdown",
   "id": "b2e16f5b-c744-44ec-af39-9825f517eb25",
   "metadata": {},
   "source": [
    "## Check in\n",
    "\n",
    "Update the column names to C1 and C2 by updating the columns attribute."
   ]
  },
  {
   "cell_type": "code",
   "execution_count": 40,
   "id": "707c6dd5-f93f-4073-8097-248a6ca67d41",
   "metadata": {
    "tags": []
   },
   "outputs": [
    {
     "data": {
      "text/html": [
       "<div>\n",
       "<style scoped>\n",
       "    .dataframe tbody tr th:only-of-type {\n",
       "        vertical-align: middle;\n",
       "    }\n",
       "\n",
       "    .dataframe tbody tr th {\n",
       "        vertical-align: top;\n",
       "    }\n",
       "\n",
       "    .dataframe thead th {\n",
       "        text-align: right;\n",
       "    }\n",
       "</style>\n",
       "<table border=\"1\" class=\"dataframe\">\n",
       "  <thead>\n",
       "    <tr style=\"text-align: right;\">\n",
       "      <th></th>\n",
       "      <th>C1</th>\n",
       "      <th>C2</th>\n",
       "    </tr>\n",
       "  </thead>\n",
       "  <tbody>\n",
       "    <tr>\n",
       "      <th>a</th>\n",
       "      <td>0</td>\n",
       "      <td>3.1</td>\n",
       "    </tr>\n",
       "    <tr>\n",
       "      <th>b</th>\n",
       "      <td>1</td>\n",
       "      <td>3.2</td>\n",
       "    </tr>\n",
       "    <tr>\n",
       "      <th>c</th>\n",
       "      <td>2</td>\n",
       "      <td>3.3</td>\n",
       "    </tr>\n",
       "  </tbody>\n",
       "</table>\n",
       "</div>"
      ],
      "text/plain": [
       "   C1   C2\n",
       "a   0  3.1\n",
       "b   1  3.2\n",
       "c   2  3.3"
      ]
     },
     "execution_count": 40,
     "metadata": {},
     "output_type": "execute_result"
    }
   ],
   "source": [
    "df.columns = ['C1', 'C2']\n",
    "df"
   ]
  },
  {
   "cell_type": "markdown",
   "id": "468d1333-71f7-4ee9-aa1f-9de2d8b8e132",
   "metadata": {},
   "source": [
    "# Summary\n",
    "\n",
    "Most important takeaways:\n",
    "\n",
    "- A pandas.Series has a bit more utility than a NumPy array, for example with accessing the index\n",
    "- You can make a pandas.Series out of a variety of input data values and types\n",
    "- You can apply operations on a pandas.Series and it will iterate through the whole series and provide a new Series with resulting values\n",
    "- pandas.DataFrames contain pandas.Series as columns"
   ]
  },
  {
   "cell_type": "code",
   "execution_count": null,
   "id": "99836a78-a2b6-48d0-be3f-e63d548a3491",
   "metadata": {},
   "outputs": [],
   "source": []
  }
 ],
 "metadata": {
  "kernelspec": {
   "display_name": "EDS220",
   "language": "python",
   "name": "eds220-env"
  },
  "language_info": {
   "codemirror_mode": {
    "name": "ipython",
    "version": 3
   },
   "file_extension": ".py",
   "mimetype": "text/x-python",
   "name": "python",
   "nbconvert_exporter": "python",
   "pygments_lexer": "ipython3",
   "version": "3.11.4"
  }
 },
 "nbformat": 4,
 "nbformat_minor": 5
}
